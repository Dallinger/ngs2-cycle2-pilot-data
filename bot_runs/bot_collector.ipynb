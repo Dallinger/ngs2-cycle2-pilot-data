{
 "cells": [
  {
   "cell_type": "code",
   "execution_count": 1,
   "metadata": {},
   "outputs": [
    {
     "name": "stderr",
     "output_type": "stream",
     "text": [
      "/Users/alec/Development/bundles/ucb_wallace/lib/python3.6/site-packages/psycopg2/__init__.py:144: UserWarning: The psycopg2 wheel package will be renamed from release 2.8; in order to keep installing from binary please use \"pip install psycopg2-binary\" instead. For details see: <http://initd.org/psycopg/docs/install.html#binary-install-from-pypi>.\n",
      "  \"\"\")\n"
     ]
    }
   ],
   "source": [
    "import csv\n",
    "import dallinger\n",
    "from dallinger.experiments import Griduniverse\n",
    "\n",
    "ROWS = 49\n",
    "COLS = 49\n",
    "ORIG_CSV_LIMIT = csv.field_size_limit(ROWS*COLS*1024)\n",
    "\n",
    "BASE_ID = \"{}01daa{}-f7ed-43fa-ad6b-9928aa51f8e1\"\n",
    "PARTICIPANTS = 9\n",
    "NUM_AS_EXPERIMENTS = 3\n",
    "NUM_RANDOM_EXPERIMENTS = 3\n",
    "\n",
    "EXP_CONFIG = {\n",
    "    \"recruiter\": \"bots\",\n",
    "    \"max_participants\": PARTICIPANTS,\n",
    "}\n",
    "\n",
    "exp = Griduniverse()\n",
    "data = {}"
   ]
  },
  {
   "cell_type": "code",
   "execution_count": 2,
   "metadata": {},
   "outputs": [
    {
     "name": "stdout",
     "output_type": "stream",
     "text": [
      "Collecting 3 experiments with 9 AdvantageSeekingBot players\n"
     ]
    },
    {
     "name": "stderr",
     "output_type": "stream",
     "text": [
      "/Users/alec/Development/bundles/ucb_wallace/lib/python3.6/site-packages/sqlalchemy/orm/mapper.py:1053: SAWarning: Reassigning polymorphic association for identity 'event' from <Mapper at 0x114fe33c8; Event> to <Mapper at 0x11503c0b8; Event>: Check for duplicate use of 'event' as value for polymorphic_identity.\n",
      "  self, self.polymorphic_identity)\n"
     ]
    },
    {
     "name": "stdout",
     "output_type": "stream",
     "text": [
      ">>>> Retrieve: Data found for experiment ab01daa0-f7ed-43fa-ad6b-9928aa51f8e1, retrieving.\n",
      ">>>> Retrieve: Data found for experiment ab01daa1-f7ed-43fa-ad6b-9928aa51f8e1, retrieving.\n",
      ">>>> Retrieve: Data found for experiment ab01daa2-f7ed-43fa-ad6b-9928aa51f8e1, retrieving.\n"
     ]
    }
   ],
   "source": [
    "print('Collecting {} experiments with {} AdvantageSeekingBot players'.format(\n",
    "    NUM_AS_EXPERIMENTS, PARTICIPANTS\n",
    "))\n",
    "\n",
    "for count in range(NUM_AS_EXPERIMENTS):\n",
    "    exp_id = BASE_ID.format('ab', count)\n",
    "    config = EXP_CONFIG.copy()\n",
    "    config['bot_policy'] = 'AdvantageSeekingBot'\n",
    "    data[exp_id] = {\n",
    "        'title': '{} Experiment #{} ({})'.format(config['bot_policy'], count + 1, exp_id),\n",
    "        'data': exp.collect(exp_id, exp_config=config)\n",
    "    }"
   ]
  },
  {
   "cell_type": "code",
   "execution_count": 3,
   "metadata": {},
   "outputs": [
    {
     "name": "stdout",
     "output_type": "stream",
     "text": [
      "Collecting 3 experiments with 9 RandomBot players\n",
      ">>>> Retrieve: Data found for experiment ad01daa0-f7ed-43fa-ad6b-9928aa51f8e1, retrieving.\n",
      ">>>> Retrieve: Data found for experiment ad01daa1-f7ed-43fa-ad6b-9928aa51f8e1, retrieving.\n",
      ">>>> Retrieve: Data found for experiment ad01daa2-f7ed-43fa-ad6b-9928aa51f8e1, retrieving.\n"
     ]
    }
   ],
   "source": [
    "print('Collecting {} experiments with {} RandomBot players'.format(\n",
    "    NUM_RANDOM_EXPERIMENTS, PARTICIPANTS\n",
    "))\n",
    "\n",
    "for count in range(NUM_RANDOM_EXPERIMENTS):\n",
    "    exp_id = BASE_ID.format('ad', count)\n",
    "    config = EXP_CONFIG.copy()\n",
    "    config['bot_policy'] = 'RandomBot'\n",
    "    data[exp_id] = {\n",
    "        'title': '{} Experiment #{} ({})'.format(config['bot_policy'], count + 1, exp_id),\n",
    "        'data': exp.collect(exp_id, exp_config=config)\n",
    "    }"
   ]
  },
  {
   "cell_type": "code",
   "execution_count": 4,
   "metadata": {
    "scrolled": false
   },
   "outputs": [
    {
     "name": "stdout",
     "output_type": "stream",
     "text": [
      "Successfully collected data from 6 bot experiments\n"
     ]
    },
    {
     "name": "stderr",
     "output_type": "stream",
     "text": [
      "dallinger_experiment is already set, updating\n"
     ]
    },
    {
     "name": "stdout",
     "output_type": "stream",
     "text": [
      "Ingesting dataset from ab01daa0-f7ed-43fa-ad6b-9928aa51f8e1-data.zip...\n"
     ]
    },
    {
     "data": {
      "application/vnd.jupyter.widget-view+json": {
       "model_id": "1a900b6b42674d2fb9efea9db114d542",
       "version_major": 2,
       "version_minor": 0
      },
      "text/plain": [
       "VBox(children=(ExperimentWidget(children=(HTML(value='\\n<h2>AdvantageSeekingBot Experiment #1 (ab01daa0-f7ed-4…"
      ]
     },
     "metadata": {},
     "output_type": "display_data"
    },
    {
     "name": "stdout",
     "output_type": "stream",
     "text": [
      "Ingesting dataset from ab01daa1-f7ed-43fa-ad6b-9928aa51f8e1-data.zip...\n"
     ]
    },
    {
     "data": {
      "application/vnd.jupyter.widget-view+json": {
       "model_id": "bb9a5b2d4db046649c4f3613f961fc75",
       "version_major": 2,
       "version_minor": 0
      },
      "text/plain": [
       "VBox(children=(ExperimentWidget(children=(HTML(value='\\n<h2>AdvantageSeekingBot Experiment #2 (ab01daa1-f7ed-4…"
      ]
     },
     "metadata": {},
     "output_type": "display_data"
    },
    {
     "name": "stdout",
     "output_type": "stream",
     "text": [
      "Ingesting dataset from ab01daa2-f7ed-43fa-ad6b-9928aa51f8e1-data.zip...\n"
     ]
    },
    {
     "data": {
      "application/vnd.jupyter.widget-view+json": {
       "model_id": "e04f5358cdd440f6913d1ade1cf7710f",
       "version_major": 2,
       "version_minor": 0
      },
      "text/plain": [
       "VBox(children=(ExperimentWidget(children=(HTML(value='\\n<h2>AdvantageSeekingBot Experiment #3 (ab01daa2-f7ed-4…"
      ]
     },
     "metadata": {},
     "output_type": "display_data"
    },
    {
     "name": "stdout",
     "output_type": "stream",
     "text": [
      "Ingesting dataset from ad01daa0-f7ed-43fa-ad6b-9928aa51f8e1-data.zip...\n"
     ]
    },
    {
     "data": {
      "application/vnd.jupyter.widget-view+json": {
       "model_id": "d5397b279bf74469aee98d5f3847c77a",
       "version_major": 2,
       "version_minor": 0
      },
      "text/plain": [
       "VBox(children=(ExperimentWidget(children=(HTML(value='\\n<h2>RandomBot Experiment #1 (ad01daa0-f7ed-43fa-ad6b-9…"
      ]
     },
     "metadata": {},
     "output_type": "display_data"
    },
    {
     "name": "stdout",
     "output_type": "stream",
     "text": [
      "Ingesting dataset from ad01daa1-f7ed-43fa-ad6b-9928aa51f8e1-data.zip...\n"
     ]
    },
    {
     "data": {
      "application/vnd.jupyter.widget-view+json": {
       "model_id": "b0afbbc7776240b1ab43b28dbb424e0f",
       "version_major": 2,
       "version_minor": 0
      },
      "text/plain": [
       "VBox(children=(ExperimentWidget(children=(HTML(value='\\n<h2>RandomBot Experiment #2 (ad01daa1-f7ed-43fa-ad6b-9…"
      ]
     },
     "metadata": {},
     "output_type": "display_data"
    },
    {
     "name": "stdout",
     "output_type": "stream",
     "text": [
      "Ingesting dataset from ad01daa2-f7ed-43fa-ad6b-9928aa51f8e1-data.zip...\n"
     ]
    },
    {
     "data": {
      "application/vnd.jupyter.widget-view+json": {
       "model_id": "8084b0de5d1345d58d4293c96fa0212e",
       "version_major": 2,
       "version_minor": 0
      },
      "text/plain": [
       "VBox(children=(ExperimentWidget(children=(HTML(value='\\n<h2>RandomBot Experiment #3 (ad01daa2-f7ed-43fa-ad6b-9…"
      ]
     },
     "metadata": {},
     "output_type": "display_data"
    }
   ],
   "source": [
    "print('Successfully collected data from {} bot experiments. Rendering replay widgets:'.format(len(data)))\n",
    "\n",
    "for exp_id in data:\n",
    "    replay_exp = Griduniverse()\n",
    "    replay_exp.task = data[exp_id]['title']\n",
    "    replay_exp.jupyter_replay(\n",
    "        app_id=exp_id,\n",
    "        session=dallinger.db.init_db(drop_all=True),\n",
    "        rows=ROWS, columns=COLS\n",
    "    )"
   ]
  }
 ],
 "metadata": {
  "kernelspec": {
   "display_name": "Python 2",
   "language": "python",
   "name": "python2"
  },
  "language_info": {
   "codemirror_mode": {
    "name": "ipython",
    "version": 3
   },
   "file_extension": ".py",
   "mimetype": "text/x-python",
   "name": "python",
   "nbconvert_exporter": "python",
   "pygments_lexer": "ipython3",
   "version": "3.6.5"
  }
 },
 "nbformat": 4,
 "nbformat_minor": 2
}
