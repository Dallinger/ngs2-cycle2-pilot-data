{
 "cells": [
  {
   "cell_type": "code",
   "execution_count": 1,
   "metadata": {},
   "outputs": [
    {
     "name": "stderr",
     "output_type": "stream",
     "text": [
      "/Users/alec/Development/bundles/ucb_wallace/lib/python3.6/site-packages/psycopg2/__init__.py:144: UserWarning: The psycopg2 wheel package will be renamed from release 2.8; in order to keep installing from binary please use \"pip install psycopg2-binary\" instead. For details see: <http://initd.org/psycopg/docs/install.html#binary-install-from-pypi>.\n",
      "  \"\"\")\n"
     ]
    }
   ],
   "source": [
    "import sys\n",
    "import csv\n",
    "import dallinger\n",
    "from dallinger.experiments import Griduniverse\n",
    "\n",
    "\n",
    "sys.path.append('..')\n",
    "import binder_helpers\n",
    "binder_helpers.start_services()\n",
    "\n",
    "ROWS = 49\n",
    "COLS = 49\n",
    "ORIG_CSV_LIMIT = csv.field_size_limit(ROWS*COLS*1024)\n",
    "\n",
    "BASE_ID = \"{}01daa{}-f7ed-43fa-ad6b-9928aa51f8e1\"\n",
    "PARTICIPANTS = 9\n",
    "NUM_AS_EXPERIMENTS = 3\n",
    "NUM_RANDOM_EXPERIMENTS = 3\n",
    "\n",
    "EXP_CONFIG = {\n",
    "    \"recruiter\": \"bots\",\n",
    "    \"max_participants\": PARTICIPANTS,\n",
    "}\n",
    "\n",
    "exp = Griduniverse()\n",
    "data = {}"
   ]
  },
  {
   "cell_type": "code",
   "execution_count": 2,
   "metadata": {},
   "outputs": [
    {
     "name": "stdout",
     "output_type": "stream",
     "text": [
      "Collecting 3 experiments with 9 AdvantageSeekingBot players\n",
      ">>>> Retrieve: Data found for experiment ab01daa0-f7ed-43fa-ad6b-9928aa51f8e1, retrieving.\n",
      ">>>> Retrieve: Data found for experiment ab01daa1-f7ed-43fa-ad6b-9928aa51f8e1, retrieving.\n",
      ">>>> Retrieve: Data found for experiment ab01daa2-f7ed-43fa-ad6b-9928aa51f8e1, retrieving.\n"
     ]
    }
   ],
   "source": [
    "print('Collecting {} experiments with {} AdvantageSeekingBot players'.format(\n",
    "    NUM_AS_EXPERIMENTS, PARTICIPANTS\n",
    "))\n",
    "\n",
    "for count in range(NUM_AS_EXPERIMENTS):\n",
    "    exp_id = BASE_ID.format('ab', count)\n",
    "    config = EXP_CONFIG.copy()\n",
    "    config['bot_policy'] = 'AdvantageSeekingBot'\n",
    "    data[exp_id] = {\n",
    "        'title': '{} Experiment #{} ({})'.format(config['bot_policy'], count + 1, exp_id),\n",
    "        'data': exp.collect(exp_id, exp_config=config)\n",
    "    }"
   ]
  },
  {
   "cell_type": "code",
   "execution_count": 3,
   "metadata": {},
   "outputs": [
    {
     "name": "stdout",
     "output_type": "stream",
     "text": [
      "Collecting 3 experiments with 9 RandomBot players\n",
      ">>>> Retrieve: Data found for experiment ad01daa0-f7ed-43fa-ad6b-9928aa51f8e1, retrieving.\n",
      ">>>> Retrieve: Data found for experiment ad01daa1-f7ed-43fa-ad6b-9928aa51f8e1, retrieving.\n",
      ">>>> Retrieve: Data found for experiment ad01daa2-f7ed-43fa-ad6b-9928aa51f8e1, retrieving.\n"
     ]
    }
   ],
   "source": [
    "print('Collecting {} experiments with {} RandomBot players'.format(\n",
    "    NUM_RANDOM_EXPERIMENTS, PARTICIPANTS\n",
    "))\n",
    "\n",
    "for count in range(NUM_RANDOM_EXPERIMENTS):\n",
    "    exp_id = BASE_ID.format('ad', count)\n",
    "    config = EXP_CONFIG.copy()\n",
    "    config['bot_policy'] = 'RandomBot'\n",
    "    data[exp_id] = {\n",
    "        'title': '{} Experiment #{} ({})'.format(config['bot_policy'], count + 1, exp_id),\n",
    "        'data': exp.collect(exp_id, exp_config=config)\n",
    "    }"
   ]
  },
  {
   "cell_type": "code",
   "execution_count": 4,
   "metadata": {
    "scrolled": false
   },
   "outputs": [
    {
     "name": "stdout",
     "output_type": "stream",
     "text": [
      "Successfully collected data from 6 bot experiments. Rendering replay widgets:\n",
      "Ingesting dataset from ab01daa0-f7ed-43fa-ad6b-9928aa51f8e1-data.zip...\n"
     ]
    },
    {
     "data": {
      "application/vnd.jupyter.widget-view+json": {
       "model_id": "eea74e38a7dd4f739a1672c0fc4b3291",
       "version_major": 2,
       "version_minor": 0
      },
      "text/plain": [
       "VBox(children=(ExperimentWidget(children=(HTML(value='\\n<h2>AdvantageSeekingBot Experiment #1 (ab01daa0-f7ed-4…"
      ]
     },
     "metadata": {},
     "output_type": "display_data"
    },
    {
     "name": "stdout",
     "output_type": "stream",
     "text": [
      "Ingesting dataset from ab01daa1-f7ed-43fa-ad6b-9928aa51f8e1-data.zip...\n"
     ]
    },
    {
     "data": {
      "application/vnd.jupyter.widget-view+json": {
       "model_id": "d71e7946eef2429e90bdfdaffb0f75a9",
       "version_major": 2,
       "version_minor": 0
      },
      "text/plain": [
       "VBox(children=(ExperimentWidget(children=(HTML(value='\\n<h2>AdvantageSeekingBot Experiment #2 (ab01daa1-f7ed-4…"
      ]
     },
     "metadata": {},
     "output_type": "display_data"
    },
    {
     "name": "stdout",
     "output_type": "stream",
     "text": [
      "Ingesting dataset from ab01daa2-f7ed-43fa-ad6b-9928aa51f8e1-data.zip...\n"
     ]
    },
    {
     "data": {
      "application/vnd.jupyter.widget-view+json": {
       "model_id": "2e53d6ec400c47728c6d53ad4ec60ecd",
       "version_major": 2,
       "version_minor": 0
      },
      "text/plain": [
       "VBox(children=(ExperimentWidget(children=(HTML(value='\\n<h2>AdvantageSeekingBot Experiment #3 (ab01daa2-f7ed-4…"
      ]
     },
     "metadata": {},
     "output_type": "display_data"
    },
    {
     "name": "stdout",
     "output_type": "stream",
     "text": [
      "Ingesting dataset from ad01daa0-f7ed-43fa-ad6b-9928aa51f8e1-data.zip...\n"
     ]
    },
    {
     "data": {
      "application/vnd.jupyter.widget-view+json": {
       "model_id": "064f46bb237442258faecdd098e440db",
       "version_major": 2,
       "version_minor": 0
      },
      "text/plain": [
       "VBox(children=(ExperimentWidget(children=(HTML(value='\\n<h2>RandomBot Experiment #1 (ad01daa0-f7ed-43fa-ad6b-9…"
      ]
     },
     "metadata": {},
     "output_type": "display_data"
    },
    {
     "name": "stdout",
     "output_type": "stream",
     "text": [
      "Ingesting dataset from ad01daa1-f7ed-43fa-ad6b-9928aa51f8e1-data.zip...\n"
     ]
    },
    {
     "data": {
      "application/vnd.jupyter.widget-view+json": {
       "model_id": "9540fc95291a4bf39b86e252195b98fe",
       "version_major": 2,
       "version_minor": 0
      },
      "text/plain": [
       "VBox(children=(ExperimentWidget(children=(HTML(value='\\n<h2>RandomBot Experiment #2 (ad01daa1-f7ed-43fa-ad6b-9…"
      ]
     },
     "metadata": {},
     "output_type": "display_data"
    },
    {
     "name": "stdout",
     "output_type": "stream",
     "text": [
      "Ingesting dataset from ad01daa2-f7ed-43fa-ad6b-9928aa51f8e1-data.zip...\n"
     ]
    },
    {
     "data": {
      "application/vnd.jupyter.widget-view+json": {
       "model_id": "3c68d564f87244fdbe465fc3e0a4287e",
       "version_major": 2,
       "version_minor": 0
      },
      "text/plain": [
       "VBox(children=(ExperimentWidget(children=(HTML(value='\\n<h2>RandomBot Experiment #3 (ad01daa2-f7ed-43fa-ad6b-9…"
      ]
     },
     "metadata": {},
     "output_type": "display_data"
    }
   ],
   "source": [
    "print('Successfully collected data from {} bot experiments. Rendering replay widgets:'.format(len(data)))\n",
    "\n",
    "for exp_id in data:\n",
    "    replay_exp = Griduniverse()\n",
    "    replay_exp.task = data[exp_id]['title']\n",
    "    replay_exp.jupyter_replay(\n",
    "        app_id=exp_id,\n",
    "        session=dallinger.db.init_db(drop_all=True),\n",
    "        rows=ROWS, columns=COLS\n",
    "    )"
   ]
  }
 ],
 "metadata": {
  "kernelspec": {
   "display_name": "Python 2",
   "language": "python",
   "name": "python2"
  },
  "language_info": {
   "codemirror_mode": {
    "name": "ipython",
    "version": 3
   },
   "file_extension": ".py",
   "mimetype": "text/x-python",
   "name": "python",
   "nbconvert_exporter": "python",
   "pygments_lexer": "ipython3",
   "version": "3.6.5"
  }
 },
 "nbformat": 4,
 "nbformat_minor": 2
}
