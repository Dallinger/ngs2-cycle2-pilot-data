{
  "cells": [
    {
      "cell_type": "code",
      "source": [
        "import analyze\n",
        "\n\n",
        "data = dallinger.data.load(\"85da95bb-a015-6176-8ee4-5935fc98fbcb\")\n",
        "\n",
        "# Plot players positions over time.\n",
        "(times, positions_x, positions_y) = analyze.timecourse_player_positions(data)\n",
        "plt.xlim([0, 48])\n",
        "plt.ylim([0, 48])\n",
        "for i in range(positions_x.shape[1]):\n",
        "    plt.plot(positions_x[:, i], positions_y[:, i], alpha=0.50)\n",
        "plt.show()"
      ],
      "outputs": [],
      "execution_count": null,
      "metadata": {
        "collapsed": false,
        "outputHidden": false,
        "inputHidden": false
      }
    }
  ],
  "metadata": {
    "kernelspec": {
      "name": "python3",
      "language": "python",
      "display_name": "Python 3"
    },
    "kernel_info": {
      "name": "python3"
    },
    "language_info": {
      "name": "python",
      "version": "3.6.3",
      "mimetype": "text/x-python",
      "codemirror_mode": {
        "name": "ipython",
        "version": 3
      },
      "pygments_lexer": "ipython3",
      "nbconvert_exporter": "python",
      "file_extension": ".py"
    }
  },
  "nbformat": 4,
  "nbformat_minor": 4
}