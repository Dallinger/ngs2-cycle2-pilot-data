{
  "cells": [
    {
      "cell_type": "markdown",
      "source": [
        "# Prerequistes\n",
        "\n",
        "You need to have Dallinger and Griduniverse installed. In addition, you need a data file\n",
        "to analyse and you need to know the date/times you want to view it at.\n",
        "\n",
        "A simple example is `6195d89e-c2c0-c65c-8f09-ba0f27143b35` which has meaningful data from\n",
        "`2018-04-20 16:32:04` until `2018-04-20 16:32:22` but any other will work.\n",
        "\n",
        "You also need to ensure that the `dallinger-import` database exists and is writable by\n",
        "the dallinger user.\n",
        "\n",
        "# Use\n",
        "\n",
        "Simply run the below cell to get the notebook in a working state. Then drag the time slider\n",
        "to see the grid at different times.\n",
        "\n",
        "# Caveats\n",
        "\n",
        "This is a work in progress, some things do not work as intended. Specifically:\n",
        "\n",
        "* You need to re-enter the experiment config as part of the `restore_state_from_replay` call\n",
        "* Not all Griduniverse features are supported\n",
        "* Older Griduniverse exports do not display chat history"
      ],
      "metadata": {}
    },
    {
      "cell_type": "code",
      "source": [
        "from dlgr.griduniverse.experiment import Griduniverse\n",
        "from dallinger import db\n",
        "from dallinger.config import get_config\n",
        "\n",
        "experiment = Griduniverse()\n",
        "participants = 3\n",
        "import datetime\n",
        "\n\n",
        "experiment.jupyter_replay(\n",
        "    '85da95bb-a015-6176-8ee4-5935fc98fbcb',\n",
        "    session=db.init_db(drop_all=True),\n",
        "    max_participants=participants,\n",
        "    num_dynos_worker=participants,\n",
        "    walls_density = 0.50,\n",
        "    walls_contiguity = 0.90,\n",
        "    rows = 45,\n",
        "    columns = 45,\n",
        ")"
      ],
      "outputs": [],
      "execution_count": null,
      "metadata": {}
    }
  ],
  "metadata": {
    "kernelspec": {
      "name": "python2",
      "language": "python",
      "display_name": "Python 2"
    },
    "language_info": {
      "mimetype": "text/x-python",
      "nbconvert_exporter": "python",
      "name": "python",
      "pygments_lexer": "ipython2",
      "version": "2.7.13",
      "file_extension": ".py",
      "codemirror_mode": {
        "version": 2,
        "name": "ipython"
      }
    },
    "kernel_info": {
      "name": "python2"
    }
  },
  "nbformat": 4,
  "nbformat_minor": 2
}